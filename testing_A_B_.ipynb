{
  "metadata": {
    "kernelspec": {
      "language": "python",
      "display_name": "Python 3",
      "name": "python3"
    },
    "language_info": {
      "pygments_lexer": "ipython3",
      "nbconvert_exporter": "python",
      "version": "3.6.4",
      "file_extension": ".py",
      "codemirror_mode": {
        "name": "ipython",
        "version": 3
      },
      "name": "python",
      "mimetype": "text/x-python"
    },
    "kaggle": {
      "accelerator": "none",
      "dataSources": [
        {
          "sourceId": 2240010,
          "sourceType": "datasetVersion",
          "datasetId": 1346019
        },
        {
          "sourceId": 2374478,
          "sourceType": "datasetVersion",
          "datasetId": 1434763
        }
      ],
      "dockerImageVersionId": 30129,
      "isInternetEnabled": false,
      "language": "python",
      "sourceType": "notebook",
      "isGpuEnabled": false
    },
    "colab": {
      "provenance": [],
      "include_colab_link": true
    }
  },
  "nbformat_minor": 0,
  "nbformat": 4,
  "cells": [
    {
      "cell_type": "markdown",
      "metadata": {
        "id": "view-in-github",
        "colab_type": "text"
      },
      "source": [
        "<a href=\"https://colab.research.google.com/github/paulo-santos-ds/Python/blob/main/testing_A_B_.ipynb\" target=\"_parent\"><img src=\"https://colab.research.google.com/assets/colab-badge.svg\" alt=\"Open In Colab\"/></a>"
      ]
    },
    {
      "cell_type": "markdown",
      "source": [
        "The purpose of A/B testing is to compare different content and design samples in pairs. However, this purpose may differ depending on the system in which we perform the test. In addition to being used mostly on applications, websites and advertisements, it is a test that can be applied in almost all decisions that can be taken thanks to the digital competencies we have. AB Testing outputs help us make accurate predictions. In summary, it can be said that they are experiments in which only one of more than one variable is changed and which variant performs better under equal conditions."
      ],
      "metadata": {
        "id": "LPlj0CzBtVNh"
      }
    },
    {
      "cell_type": "code",
      "source": [
        "#importando as bibliotecas\n",
        "#\n",
        "import numpy as np\n",
        "import pandas as pd\n",
        "import matplotlib.pyplot as plt\n",
        "import seaborn as sns\n",
        "import statsmodels.stats.api as sms\n",
        "from statsmodels.stats.proportion import proportions_ztest\n"
      ],
      "metadata": {
        "execution": {
          "iopub.status.busy": "2021-10-07T09:53:58.179219Z",
          "iopub.execute_input": "2021-10-07T09:53:58.179635Z",
          "iopub.status.idle": "2021-10-07T09:53:58.184442Z",
          "shell.execute_reply.started": "2021-10-07T09:53:58.179606Z",
          "shell.execute_reply": "2021-10-07T09:53:58.183634Z"
        },
        "trusted": true,
        "id": "2lnsohEdsVGg"
      },
      "execution_count": 1,
      "outputs": []
    },
    {
      "cell_type": "code",
      "source": [],
      "metadata": {
        "id": "DVgTKWbPlanx"
      },
      "execution_count": null,
      "outputs": []
    },
    {
      "cell_type": "code",
      "source": [],
      "metadata": {
        "id": "-YNJvqKe9XSi"
      },
      "execution_count": null,
      "outputs": []
    },
    {
      "cell_type": "code",
      "source": [
        "pd.set_option('display.max_columns', None)\n",
        "pd.set_option('display.max_rows', 10)\n",
        "pd.set_option('display.float_format', lambda x: '%.5f' % x)"
      ],
      "metadata": {
        "execution": {
          "iopub.status.busy": "2021-10-07T09:57:53.156938Z",
          "iopub.execute_input": "2021-10-07T09:57:53.157415Z",
          "iopub.status.idle": "2021-10-07T09:57:53.161892Z",
          "shell.execute_reply.started": "2021-10-07T09:57:53.157372Z",
          "shell.execute_reply": "2021-10-07T09:57:53.16103Z"
        },
        "trusted": true,
        "id": "YF3h_YDKsVGh"
      },
      "execution_count": null,
      "outputs": []
    },
    {
      "cell_type": "markdown",
      "source": [
        "Let's read the dataset. In order to test, we will need two groups, the **Control Group** and the **Test Group**."
      ],
      "metadata": {
        "id": "LBdhXu9csVGh"
      }
    },
    {
      "cell_type": "markdown",
      "source": [
        "CONTROL GROUP: We can read the data set of the control group as follows."
      ],
      "metadata": {
        "id": "jRZGGJqqsVGh"
      }
    },
    {
      "cell_type": "code",
      "source": [
        "df_control = pd.read_excel(\"../input/ab-testing/ab_testing.xlsx\",sheet_name= \"Control Group\")\n",
        "df_control.head()"
      ],
      "metadata": {
        "execution": {
          "iopub.status.busy": "2021-10-07T10:04:39.979188Z",
          "iopub.execute_input": "2021-10-07T10:04:39.979559Z",
          "iopub.status.idle": "2021-10-07T10:04:40.231589Z",
          "shell.execute_reply.started": "2021-10-07T10:04:39.979524Z",
          "shell.execute_reply": "2021-10-07T10:04:40.230726Z"
        },
        "trusted": true,
        "id": "5ruuX_7vsVGh"
      },
      "execution_count": null,
      "outputs": []
    },
    {
      "cell_type": "markdown",
      "source": [
        "For a first impression of our control group dataset, we can take a quick look."
      ],
      "metadata": {
        "id": "mtqSHmDnsVGh"
      }
    },
    {
      "cell_type": "code",
      "source": [
        "df_control.info()"
      ],
      "metadata": {
        "execution": {
          "iopub.status.busy": "2021-10-07T10:04:43.493859Z",
          "iopub.execute_input": "2021-10-07T10:04:43.494156Z",
          "iopub.status.idle": "2021-10-07T10:04:43.518515Z",
          "shell.execute_reply.started": "2021-10-07T10:04:43.494127Z",
          "shell.execute_reply": "2021-10-07T10:04:43.516886Z"
        },
        "trusted": true,
        "id": "YKkbjyzosVGh"
      },
      "execution_count": null,
      "outputs": []
    },
    {
      "cell_type": "markdown",
      "source": [
        "TEST GROUP: After the control group, we read the data set of the test group as follows."
      ],
      "metadata": {
        "id": "mlIAM5rVsVGh"
      }
    },
    {
      "cell_type": "code",
      "source": [
        "df_test = pd.read_excel(\"../input/ab-testing/ab_testing.xlsx\",sheet_name= \"Test Group\")\n",
        "df_test.head()"
      ],
      "metadata": {
        "execution": {
          "iopub.status.busy": "2021-10-07T10:05:59.307993Z",
          "iopub.execute_input": "2021-10-07T10:05:59.308317Z",
          "iopub.status.idle": "2021-10-07T10:05:59.33709Z",
          "shell.execute_reply.started": "2021-10-07T10:05:59.308286Z",
          "shell.execute_reply": "2021-10-07T10:05:59.336169Z"
        },
        "trusted": true,
        "id": "g99vHRXOsVGh"
      },
      "execution_count": null,
      "outputs": []
    },
    {
      "cell_type": "code",
      "source": [
        "df_test.info()"
      ],
      "metadata": {
        "execution": {
          "iopub.status.busy": "2021-10-07T10:06:12.288597Z",
          "iopub.execute_input": "2021-10-07T10:06:12.288889Z",
          "iopub.status.idle": "2021-10-07T10:06:12.301403Z",
          "shell.execute_reply.started": "2021-10-07T10:06:12.288852Z",
          "shell.execute_reply": "2021-10-07T10:06:12.300362Z"
        },
        "trusted": true,
        "id": "WIHwUJ-psVGh"
      },
      "execution_count": null,
      "outputs": []
    },
    {
      "cell_type": "markdown",
      "source": [
        "# Formulating a Hypothesis"
      ],
      "metadata": {
        "id": "RE2hYCcdsVGh"
      }
    },
    {
      "cell_type": "markdown",
      "source": [
        "1. Assumption is Normality\n",
        "2. Assumption is Variance Homogenity\n",
        "\n",
        "* If assumptions are provided then two independent sample t-tests (parametric testing) will be applied\n",
        "\n",
        "* If assumptions are not provided than Mannwhitneyu test (non-parametric test) will be applied\n",
        "\n",
        "\n",
        "\n",
        "\n",
        "Therefore, we should first look at the assumption of normality."
      ],
      "metadata": {
        "id": "bqzdAvMOsVGi"
      }
    },
    {
      "cell_type": "markdown",
      "source": [
        "We will perform hypothesis testing. It is necessary to interpret whether the results are statistically significant. Normality assumption check is considered as the first step of this test."
      ],
      "metadata": {
        "id": "YSIogrwWsVGi"
      }
    },
    {
      "cell_type": "markdown",
      "source": [
        "# Normality Assumption"
      ],
      "metadata": {
        "id": "NfQaFsMssVGi"
      }
    },
    {
      "cell_type": "markdown",
      "source": [
        "It is possible to use various normality tests in order to reveal whether the data are suitable for normal distribution. The most well-known of these tests are Chi-Square, Kolmogorow-Smirnov, Lilliefors and Shapiro-Wilk normality tests. Among these, we will use the SHAPIRO WILK-W test."
      ],
      "metadata": {
        "id": "yX3OpRTjsVGi"
      }
    },
    {
      "cell_type": "markdown",
      "source": [
        "# 1. Shapiro Wilk-W Test"
      ],
      "metadata": {
        "id": "jJ5-r_H3sVGi"
      }
    },
    {
      "cell_type": "markdown",
      "source": [
        "Shapiro-Wilk and Kolmogorov-Smirnov are the most commonly used tests for the normal distribution test, and their hypotheses are basically the same. In contrast to other comparison tests the Shapiro-Wilk test is only applicable to check for normality.\n",
        "\n",
        "H0: The variable has a normal distribution. p-value > 0.05\n",
        "\n",
        "H1: The variable does not have a normal distribution. p-value < 0.05"
      ],
      "metadata": {
        "id": "tgNn2oDPsVGi"
      }
    },
    {
      "cell_type": "markdown",
      "source": [
        "The null-hypothesis of this test is that the population is normally distributed. Thus, if the p value is less than the chosen alpha level, then the null hypothesis is rejected and there is evidence that the data tested are not normally distributed. On the other hand, if the p value is greater than the chosen alpha level, then the null hypothesis can not be rejected."
      ],
      "metadata": {
        "id": "u1b17KcosVGi"
      }
    },
    {
      "cell_type": "markdown",
      "source": [
        "H0: Normal distribution assumption is provided.\n",
        "\n",
        "H1: Normal distribution assumption is not provided."
      ],
      "metadata": {
        "id": "4SQcFDYosVGi"
      }
    },
    {
      "cell_type": "code",
      "source": [
        "df_control['Purchase'].mean()"
      ],
      "metadata": {
        "execution": {
          "iopub.status.busy": "2021-10-07T10:08:28.195372Z",
          "iopub.execute_input": "2021-10-07T10:08:28.195715Z",
          "iopub.status.idle": "2021-10-07T10:08:28.202961Z",
          "shell.execute_reply.started": "2021-10-07T10:08:28.19568Z",
          "shell.execute_reply": "2021-10-07T10:08:28.202131Z"
        },
        "trusted": true,
        "id": "e1hBQQAXsVGi"
      },
      "execution_count": null,
      "outputs": []
    },
    {
      "cell_type": "code",
      "source": [
        "df_test['Purchase'].mean()"
      ],
      "metadata": {
        "execution": {
          "iopub.status.busy": "2021-10-07T10:08:30.707049Z",
          "iopub.execute_input": "2021-10-07T10:08:30.707356Z",
          "iopub.status.idle": "2021-10-07T10:08:30.714538Z",
          "shell.execute_reply.started": "2021-10-07T10:08:30.707325Z",
          "shell.execute_reply": "2021-10-07T10:08:30.713662Z"
        },
        "trusted": true,
        "id": "fmBsWGxIsVGi"
      },
      "execution_count": null,
      "outputs": []
    },
    {
      "cell_type": "code",
      "source": [
        "test_stat, pvalue = shapiro(df_control[\"Purchase\"])\n",
        "print('Test Stat = %.4f, p-value = %.4f' % (test_stat, pvalue))\n",
        "\n",
        "test_stat, pvalue = shapiro(df_test[\"Purchase\"])\n",
        "print('Test Stat = %.4f, p-value = %.4f' % (test_stat, pvalue))"
      ],
      "metadata": {
        "execution": {
          "iopub.status.busy": "2021-10-07T10:08:35.738346Z",
          "iopub.execute_input": "2021-10-07T10:08:35.738613Z",
          "iopub.status.idle": "2021-10-07T10:08:35.744465Z",
          "shell.execute_reply.started": "2021-10-07T10:08:35.738584Z",
          "shell.execute_reply": "2021-10-07T10:08:35.743511Z"
        },
        "trusted": true,
        "id": "LLr9IK48sVGi"
      },
      "execution_count": null,
      "outputs": []
    },
    {
      "cell_type": "markdown",
      "source": [
        "H0 cannot be **rejected** for each group because p-value = 0.1541 and 0.5891 > 0.05, so that is, the normal distribution assumption of is provided. **H0 cannot be rejected.**"
      ],
      "metadata": {
        "id": "utCLPwqRsVGi"
      }
    },
    {
      "cell_type": "markdown",
      "source": [
        "> Now that the variance of normality is satisfied, we should be able to control the homogeneity of the variance."
      ],
      "metadata": {
        "id": "-70h3jzYsVGi"
      }
    },
    {
      "cell_type": "markdown",
      "source": [
        "# Variance Homogenity Assumption"
      ],
      "metadata": {
        "id": "gkYrF_9usVGi"
      }
    },
    {
      "cell_type": "markdown",
      "source": [
        "# 1. Levene's Test"
      ],
      "metadata": {
        "id": "Fx7gW58wsVGi"
      }
    },
    {
      "cell_type": "markdown",
      "source": [
        "**H0: Variances are Homogeneous.**\n",
        "\n",
        "**H1: Variances are not Homogeneous.**\n",
        "\n",
        "\n",
        "Levene's test is used to test the homogeneity of group variances. Levene test: It is run when groups are two or more. In other words, it is used in independent groups t test and Anova test. It is not used in the t test in dependent groups where the number of groups is odd. The sig (p) value found as a result of the Levene test is checked. If this value is greater than 0.05, we say that there is no difference. There is no difference between the groups. So we say the variances are equal (homogeneous). In this case, the values ​​in the first row (t value, p value) are taken into account. If equality of variances is not achieved, the values ​​in the second row (t value, p value) are taken into account. For example: p of the Levene test\n",
        "Let the value be 0.949. Since this value is greater than 0.05, we say that the variances are equal (Equal variances assumed). And in the rest of the first line, we look at the values. Let the p value of the sample t test be found to be 0.123. If this value is less than/equal to p=0.05, the hypothesis is confirmed. Otherwise, it will not be validated. The equation in our example was: 0.123>0.05. In this case, our hypothesis was not confirmed. H0 accepted, H1 rejected."
      ],
      "metadata": {
        "id": "Mcr7zmKusVGi"
      }
    },
    {
      "cell_type": "code",
      "source": [
        "test_stat, pvalue = levene(df_control['Purchase'],\n",
        "                           df_test['Purchase'])\n",
        "print('Test Stat = %.4f, p-value = %.4f' % (test_stat, pvalue))"
      ],
      "metadata": {
        "execution": {
          "iopub.status.busy": "2021-10-07T10:08:59.745916Z",
          "iopub.execute_input": "2021-10-07T10:08:59.746237Z",
          "iopub.status.idle": "2021-10-07T10:08:59.754319Z",
          "shell.execute_reply.started": "2021-10-07T10:08:59.746202Z",
          "shell.execute_reply": "2021-10-07T10:08:59.753681Z"
        },
        "trusted": true,
        "id": "atsES9E3sVGm"
      },
      "execution_count": null,
      "outputs": []
    },
    {
      "cell_type": "markdown",
      "source": [
        "H0 cannot be rejected because p-value = 0.1083 > 0.05, so that is, **homogeneous variance distribution is provided**."
      ],
      "metadata": {
        "id": "USJEt_ogsVGm"
      }
    },
    {
      "cell_type": "markdown",
      "source": [
        "We can apply Two Independent Sample T-Tests which is categorized as parametric test, since the assumptions are satisfied."
      ],
      "metadata": {
        "id": "V3b_WQxRsVGm"
      }
    },
    {
      "cell_type": "markdown",
      "source": [
        "# Independent Samples T Test"
      ],
      "metadata": {
        "id": "V47J39oesVGm"
      }
    },
    {
      "cell_type": "markdown",
      "source": [
        "The independent sample t-test is used to test whether there is a statistically significant difference between two independent groups by looking at the means. This test is a parametric test and some assumptions (pre-requisites) must be fulfilled in order to report the results of the test.\n",
        "\n",
        "We checked these necessary conditions in the previous step. Again, the dependent variable in each group should be normally distributed **(Normality)**. Variances should be homogeneous. **(Homogeneity)**\n",
        "\n",
        "Apart from these two conditions, the following conditions must also be met:\n",
        "\n",
        "* The dependent variable must be continuous.\n",
        "* The argument must be categorical.\n",
        "* The dataset should not contain outliers.\n",
        "\n",
        "\n",
        "Note: The Independent Samples t Test can only compare the means for two (and only two) groups. It cannot make comparisons among more than two groups. If you wish to compare the means across more than two groups, you will likely want to run an ANOVA."
      ],
      "metadata": {
        "id": "Ai-GsFlssVGm"
      }
    },
    {
      "cell_type": "code",
      "source": [
        "test_stat, pvalue = ttest_ind(df_control[\"Purchase\"],\n",
        "                              df_test[\"Purchase\"],\n",
        "                              equal_var=True)\n",
        "\n",
        "print('Test Stat = %.4f, p-value = %.4f' % (test_stat, pvalue))"
      ],
      "metadata": {
        "execution": {
          "iopub.status.busy": "2021-10-07T10:09:41.772352Z",
          "iopub.execute_input": "2021-10-07T10:09:41.772623Z",
          "iopub.status.idle": "2021-10-07T10:09:41.778797Z",
          "shell.execute_reply.started": "2021-10-07T10:09:41.772594Z",
          "shell.execute_reply": "2021-10-07T10:09:41.778092Z"
        },
        "trusted": true,
        "id": "WNMzkq8vsVGm"
      },
      "execution_count": null,
      "outputs": []
    },
    {
      "cell_type": "markdown",
      "source": [
        "H0 cannot be rejected because p-value = 0.3493 > 0.05 . In other words, there is no statistically significant difference between the purchase averages of the control and test groups. There is no significant difference between maximum bidding and average bidding."
      ],
      "metadata": {
        "id": "LchIQ0QzsVGm"
      }
    },
    {
      "cell_type": "markdown",
      "source": [
        "# Mann–Whitney U test"
      ],
      "metadata": {
        "id": "Ma6qYTaxsVGn"
      }
    },
    {
      "cell_type": "markdown",
      "source": [
        "It is a non-parametric method used to compare the means of two independent groups in a distribution that does not show normal distribution. Since this test is a non-parametric test, no assumptions are necessary regarding the distribution of the scores obtained.\n",
        "\n",
        "A few necessary prerequisites for this test can be listed as follows:\n",
        "\n",
        "* The independent variable must be categorical.\n",
        "* The dependent variable must be continuous or sequential.\n",
        "* The sample selected from the population should be random.\n",
        "* The scores obtained from the groups should not show normal distribution."
      ],
      "metadata": {
        "id": "5hegMlTfsVGn"
      }
    },
    {
      "cell_type": "markdown",
      "source": [
        "# Functionalization of A/B Test"
      ],
      "metadata": {
        "id": "aVU6KvCHsVGn"
      }
    },
    {
      "cell_type": "code",
      "source": [
        "def hypothesis_checker(df_A, df_B, col_name):\n",
        "\n",
        "    test_stat_A, pvalue_A = shapiro(df_A[col_name])\n",
        "    test_stat_B, pvalue_B = shapiro(df_B[col_name])\n",
        "    test_stat_var, pvalue_var = levene(df_A[col_name], df_B[col_name])\n",
        "\n",
        "    print('*Normalization Check:')\n",
        "    print('Shapiro Test for Control Group, Stat = %.4f, p-value = %.4f' % (test_stat_A, pvalue_A))\n",
        "    print('Shapiro Test for Test Group, Stat = %.4f, p-value = %.4f' % (test_stat_B, pvalue_B))\n",
        "\n",
        "    print('*Variance Check:')\n",
        "    print('Levene Test Stat = %.4f, p-value = %.4f' % (test_stat_var, pvalue_var))\n",
        "\n",
        "    if pvalue_A < 0.05 and pvalue_B < 0.05:\n",
        "        test_stat, pvalue = mannwhitneyu(df_A[col_name], df_B[col_name])\n",
        "\n",
        "        print(\" \")\n",
        "        print('Mann–Whitney U Test Stat = %.4f, p-value = %.4f' % (test_stat, pvalue))\n",
        "        print(f'H0 hypothesis {\"NOT REJECTED\" if pvalue > 0.05 else \"REJECTED\"} in Mann–Whitney U Test')\n",
        "\n",
        "    else:\n",
        "        test_stat, pvalue = ttest_ind(df_A[col_name], df_B[col_name], equal_var=(True if pvalue_var > 0.05 else False))\n",
        "\n",
        "        print(\" \")\n",
        "        print('Independent Samples T Test Stat = %.4f, p-value = %.4f' % (test_stat, pvalue))\n",
        "        print(f'H0 hypothesis {\"NOT REJECTED\" if pvalue > 0.05 else \"REJECTED\"}, Independent Samples T Test')"
      ],
      "metadata": {
        "execution": {
          "iopub.status.busy": "2021-10-07T10:19:41.205995Z",
          "iopub.execute_input": "2021-10-07T10:19:41.206678Z",
          "iopub.status.idle": "2021-10-07T10:19:41.213802Z",
          "shell.execute_reply.started": "2021-10-07T10:19:41.206637Z",
          "shell.execute_reply": "2021-10-07T10:19:41.21326Z"
        },
        "trusted": true,
        "id": "65V8yiF0sVGn"
      },
      "execution_count": null,
      "outputs": []
    },
    {
      "cell_type": "code",
      "source": [
        "hypothesis_checker(df_control, df_test, 'Earning')"
      ],
      "metadata": {
        "execution": {
          "iopub.status.busy": "2021-10-07T10:19:44.034283Z",
          "iopub.execute_input": "2021-10-07T10:19:44.034962Z",
          "iopub.status.idle": "2021-10-07T10:19:44.041924Z",
          "shell.execute_reply.started": "2021-10-07T10:19:44.034922Z",
          "shell.execute_reply": "2021-10-07T10:19:44.041195Z"
        },
        "trusted": true,
        "id": "L8pH4rDosVGn"
      },
      "execution_count": null,
      "outputs": []
    },
    {
      "cell_type": "markdown",
      "source": [
        "The normality is provided beacuse P-value = 0.5306 and 0.6163 > 0.05 that is, H0 can not rejected.\n",
        "The variance homogenity is provided beacuse P-value = 0.5540 > 0.05 that is, H0 can not rejected.\n",
        "Due to the **normality** and **variance homogenity assumptions are provided**, we should perform Independent Samples T Test (parametric test).\n",
        "\n",
        "\n",
        "\n",
        "As a result of Independent Samples T Test, there is a statistically significant difference between them because p-value = 0.0000 < 0.05 so H0 is rejected. Considering the gain in the test group, the test group earns more. That's why we should choose average bidding."
      ],
      "metadata": {
        "id": "noiW7wOysVGn"
      }
    },
    {
      "cell_type": "code",
      "source": [
        "print('control_mean', df_control['Earning'].mean())\n",
        "print('test_mean', df_test['Earning'].mean())"
      ],
      "metadata": {
        "execution": {
          "iopub.status.busy": "2021-10-07T11:41:11.58172Z",
          "iopub.execute_input": "2021-10-07T11:41:11.582068Z",
          "iopub.status.idle": "2021-10-07T11:41:11.604849Z",
          "shell.execute_reply.started": "2021-10-07T11:41:11.58201Z",
          "shell.execute_reply": "2021-10-07T11:41:11.603707Z"
        },
        "trusted": true,
        "id": "45kydjUTsVGn"
      },
      "execution_count": null,
      "outputs": []
    },
    {
      "cell_type": "markdown",
      "source": [
        "The presumability of normality is provided beacuse P-value = 0.5306 and 0.6163 > 0.05 that is, H0 can not rejected.\n",
        "The presumability of variance homogenity is not provided beacuse P-value = 0.5540 > 0.05 that is, H0 can not rejected.\n",
        "\n",
        "\n",
        "In this case, we should perform parametric testing.(Independent Samples T Test)\n",
        "\n",
        "\n",
        "As a result, there is a statistically significant difference between them because p-value = 0.0000 < 0.05 so H0 is rejected. When you look at the gain in the test group, the test group gains more. That's why we can choose average bidding."
      ],
      "metadata": {
        "id": "D3rl5Zn_sVGn"
      }
    },
    {
      "cell_type": "markdown",
      "source": [
        "# Another Aspect - Conversion of Impression to Click"
      ],
      "metadata": {
        "id": "8E8O0rEcsVGn"
      }
    },
    {
      "cell_type": "markdown",
      "source": [
        "# Two Proportion Z-Test"
      ],
      "metadata": {
        "id": "1m7s4kdWsVGn"
      }
    },
    {
      "cell_type": "markdown",
      "source": [
        "**The Two-Proportions Z-Test is used to compare two ratios.**\n",
        "\n",
        "Let's assume we have 2 groups of individuals: + Group 1, individuals with skin cancer: n = 100 + Group 2, healthy individuals: n = 100\n",
        "\n",
        "Number of smokers in each group:\n",
        "\n",
        "\n",
        "490 individuals from group 1 male: 98/100 = 98%\n",
        "\n",
        "400 individuals from group 2 male: 80/100 = 80%\n",
        "In total:\n",
        "\n",
        "\n",
        "Percentage of male: 89%\n",
        "\n",
        "Percentage of female: 11%\n",
        "\n",
        "What we want to investigate is whether the proportion of gender in the two groups is the same."
      ],
      "metadata": {
        "id": "HLGDlkE-sVGn"
      }
    },
    {
      "cell_type": "markdown",
      "source": [
        "H0: μ1 = μ2 (the two population proportions are equal) The alternative hypothesis can be either two-tailed, left-tailed, or right-tailed:"
      ],
      "metadata": {
        "id": "Z5r9CctDsVGn"
      }
    },
    {
      "cell_type": "markdown",
      "source": [
        "H0 : There is a statistically significant difference between the click rate averages of control and test groups.\n",
        "\n",
        "\n",
        "H1 : There is no statistically significant difference between the click rate averages of control and test groups."
      ],
      "metadata": {
        "id": "yP5m6EkysVGo"
      }
    },
    {
      "cell_type": "code",
      "source": [
        "click_a = df_control[\"Click\"].sum()\n",
        "impression_a = df_control[\"Impression\"].sum()\n",
        "print(click_a/impression_a)"
      ],
      "metadata": {
        "execution": {
          "iopub.status.busy": "2021-10-07T11:40:59.097781Z",
          "iopub.execute_input": "2021-10-07T11:40:59.099841Z",
          "iopub.status.idle": "2021-10-07T11:40:59.257923Z",
          "shell.execute_reply.started": "2021-10-07T11:40:59.099478Z",
          "shell.execute_reply": "2021-10-07T11:40:59.255801Z"
        },
        "trusted": true,
        "id": "QXI2mgLFsVGo"
      },
      "execution_count": null,
      "outputs": []
    },
    {
      "cell_type": "code",
      "source": [
        "click_b = df_test[\"Click\"].sum()\n",
        "impression_b = df_test[\"Impression\"].sum()\n",
        "print(click_b/impression_b)"
      ],
      "metadata": {
        "id": "iozSzttxsVGo"
      },
      "execution_count": null,
      "outputs": []
    },
    {
      "cell_type": "code",
      "source": [
        "nclicks = np.array([click_a,click_b])\n",
        "\n",
        "nad_views = np.array([impression_a,impression_b])"
      ],
      "metadata": {
        "id": "Z3BU7amPsVGo"
      },
      "execution_count": null,
      "outputs": []
    },
    {
      "cell_type": "code",
      "source": [
        "proportions_ztest(count=nclicks,nobs=nad_views)"
      ],
      "metadata": {
        "id": "BS4OpZv2sVGo"
      },
      "execution_count": null,
      "outputs": []
    },
    {
      "cell_type": "markdown",
      "source": [
        "There is a statistically significant difference between them\n",
        "\n",
        "because p-value = 0.0000 < 0.05 so **H0 is rejected.**\n",
        "\n",
        "Based on the current average click-through rates,\n",
        "* the maximum bidding 5 out of 100 people click on the ad, while\n",
        "* the ad the average bidding 3 out of 100 people click on.\n",
        "\n",
        "So, if the company wants to increase the click-through rate, it may prefer maximum bidding."
      ],
      "metadata": {
        "id": "-9aqzUWXsVGo"
      }
    },
    {
      "cell_type": "markdown",
      "source": [
        "# Conclusion"
      ],
      "metadata": {
        "id": "-XPzWtgFsVGo"
      }
    },
    {
      "cell_type": "markdown",
      "source": [
        "Running an A/B test that directly compares a variation to a current experience allows you to ask questions about changes to your website or app and then collect data on the impact of that change.\n",
        "\n",
        "Based on the assumptions in website optimization, the test allows to make analyzes about business processes that can be called \"we know\" instead of \"we think\". By measuring the impact of changes on your metrics, you can get an idea of the consequences of each change.\n",
        "\n",
        "To sum it up, let's review once again what you need to do the A/B test.\n",
        "\n",
        "* Basic data should be collected\n",
        "\n",
        "* Goals must be set\n",
        "\n",
        "* Establish an assumption (estimate how a particular element might perform better)\n",
        "\n",
        "* A variable must be created (a variable must be created to oppose the existing element based on the assumption)\n",
        "\n",
        "* Run the test (must take into account time, means, etc. Be sure to test both versions (control and test) simultaneously to ensure validity of results\n",
        "\n",
        "* Analyze the results – review the results to make sure the desired effect is achieved. Then choose which version performs better."
      ],
      "metadata": {
        "id": "rJXe5bUJsVGo"
      }
    },
    {
      "cell_type": "markdown",
      "source": [
        "# References"
      ],
      "metadata": {
        "id": "QoBA9otHsVGo"
      }
    },
    {
      "cell_type": "markdown",
      "source": [
        "[1] Shapiro, S. S., & Wilk, M. B. (1965). An analysis of variance test for normality (complete samples). Biometrika, 52(3/4), 591-611."
      ],
      "metadata": {
        "id": "AmnwAaLGsVGo"
      }
    }
  ]
}